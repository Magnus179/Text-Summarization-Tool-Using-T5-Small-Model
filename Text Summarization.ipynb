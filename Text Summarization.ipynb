{
 "cells": [
  {
   "cell_type": "code",
   "execution_count": 1,
   "id": "ca5bc88c-abdb-40ed-b8ca-69114dc875fb",
   "metadata": {},
   "outputs": [],
   "source": [
    "from transformers import pipeline"
   ]
  },
  {
   "cell_type": "code",
   "execution_count": 3,
   "id": "316b5d6e-1241-40c9-b96c-93c8c6848999",
   "metadata": {},
   "outputs": [],
   "source": [
    "# Initialize the summarization model using Hugging Face's transformers library\n",
    "model = pipeline(\"summarization\", model=\"t5-small\")"
   ]
  },
  {
   "cell_type": "code",
   "execution_count": 5,
   "id": "d2663458-8cd6-49d0-bba0-7541a0575bef",
   "metadata": {},
   "outputs": [],
   "source": [
    "\n",
    "# Define a class for handling summarization tasks\n",
    "class Summarization:\n",
    "\n",
    "    # Constructor to initialize the input text\n",
    "    def __init__(self, input):\n",
    "        self.text = input\n",
    "\n",
    "    # Method to summarize the input text\n",
    "    def summarize(self):\n",
    "        # Remove leading and trailing whitespace\n",
    "        self.text = self.text.strip()\n",
    "        \n",
    "        # Check if the input text is long enough to summarize\n",
    "        if len(self.text) > 50:\n",
    "            # Generate summary using the model with defined length constraints\n",
    "            result = model(self.text, max_length=50, min_length=25, do_sample=False)\n",
    "            print(result)  # Debug: Print the raw output from the model\n",
    "            \n",
    "            # Extract the summary text from the model's output\n",
    "            result = list(result[0].values())[0]\n",
    "            print(result)  # Debug: Print the raw summary\n",
    "            \n",
    "            # Capitalize each sentence in the summary\n",
    "            res = []  # Initialize an empty list to hold processed sentences\n",
    "            [res.append(i.strip().capitalize()) for i in result.strip().split('.')]\n",
    "            print(res)  # Debug: Print the list of capitalized sentences\n",
    "            \n",
    "            # Join the sentences into a final formatted summary\n",
    "            result = '. '.join(res)\n",
    "            print(\"SUMMARY:\")  # Print a label for the summary\n",
    "            \n",
    "            return result  # Return the formatted summary\n",
    "        else:\n",
    "            # Inform the user if the input text is too short to summarize\n",
    "            return f\"\\n{'='*10}Please provide some lengthy text to summarize!{'='*10}\\n\""
   ]
  },
  {
   "cell_type": "code",
   "execution_count": null,
   "id": "88a78af3-0776-4e44-ae2b-f70befdfa975",
   "metadata": {},
   "outputs": [
    {
     "name": "stdout",
     "output_type": "stream",
     "text": [
      "If you want to exit, give 'exit' or 'quit' as input.\n"
     ]
    },
    {
     "name": "stdin",
     "output_type": "stream",
     "text": [
      "Enter the prompt:  Python is widely regarded as one of the best programming languages due to its simplicity, versatility, and extensive ecosystem. Its easy-to-read syntax reduces learning curves, making it ideal for beginners and experts alike. Python supports multiple paradigms, including procedural, object-oriented, and functional programming. It has a vast library collection, such as NumPy, Pandas, TensorFlow, and Django, catering to fields like data science, AI, web development, and automation. Python's active community ensures continuous improvement and support. It integrates seamlessly with other technologies, supports cross-platform development, and is highly scalable, making it a top choice for rapid development and innovation.\n"
     ]
    },
    {
     "name": "stdout",
     "output_type": "stream",
     "text": [
      "[{'summary_text': 'Python is widely regarded as one of the best programming languages due to its simplicity, versatility, and extensive ecosystem . its easy-to-read syntax reduces learning curves, making it ideal for beginners and experts alike .'}]\n",
      "Python is widely regarded as one of the best programming languages due to its simplicity, versatility, and extensive ecosystem . its easy-to-read syntax reduces learning curves, making it ideal for beginners and experts alike .\n",
      "['Python is widely regarded as one of the best programming languages due to its simplicity, versatility, and extensive ecosystem', 'Its easy-to-read syntax reduces learning curves, making it ideal for beginners and experts alike', '']\n",
      "SUMMARY:\n",
      "Python is widely regarded as one of the best programming languages due to its simplicity, versatility, and extensive ecosystem. Its easy-to-read syntax reduces learning curves, making it ideal for beginners and experts alike. \n",
      "\n",
      "\n",
      "If you want to exit, give 'exit' or 'quit' as input.\n"
     ]
    }
   ],
   "source": [
    "\n",
    "# Loop to interact with the user for input\n",
    "while True:\n",
    "    print(\"If you want to exit, give 'exit' or 'quit' as input.\")\n",
    "    user_input = input(\"Enter the prompt: \").strip()  # Get user input and remove extra spaces\n",
    "    \n",
    "    # Exit condition\n",
    "    if user_input.lower() in ['exit', 'quit']:\n",
    "        print(\"Exiting....\")\n",
    "        break\n",
    "    else:\n",
    "        # Create an instance of the Summarization class and summarize the input text\n",
    "        obj = Summarization(user_input)\n",
    "        print(obj.summarize())  # Print the summary or error message\n",
    "        print(\"\\n\")  # Add a blank line for better readability"
   ]
  },
  {
   "cell_type": "code",
   "execution_count": null,
   "id": "0677c30f-6b73-4fba-a071-71ac7ec27403",
   "metadata": {},
   "outputs": [],
   "source": []
  }
 ],
 "metadata": {
  "kernelspec": {
   "display_name": "Python 3 (ipykernel)",
   "language": "python",
   "name": "python3"
  },
  "language_info": {
   "codemirror_mode": {
    "name": "ipython",
    "version": 3
   },
   "file_extension": ".py",
   "mimetype": "text/x-python",
   "name": "python",
   "nbconvert_exporter": "python",
   "pygments_lexer": "ipython3",
   "version": "3.12.7"
  }
 },
 "nbformat": 4,
 "nbformat_minor": 5
}
